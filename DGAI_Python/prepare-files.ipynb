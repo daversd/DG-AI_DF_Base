{
 "cells": [
  {
   "cell_type": "markdown",
   "metadata": {},
   "source": [
    "## Preaparo dos arquivos de treinamento\n",
    "Para treinar (e testar) corretamente, seu set de treainmanto deve estar organizado de acordo com os seguintes critérios:\n",
    "- Dentro da sua pasta principal é preciso haver uma pasta chamada `AB`. Por exemplo: `myTrainingSet/AB` ou `data/myTrainingSet/AB`\n",
    "- Dentro da sua pasta `AB` também precisam haver outras duas pastas, uma chamada `train` e outra chamada `test`. Por exemplo: `myTrainingSet/AB/train` and `myTrainingSet/AB/test`\n",
    "- Cada imagem dentro da pasta `AB` deve ser a combinação de uma imagem input (`A`) e uma de output (`B`), cada uma de `256x256 px`. Isso significa que as imagens `AB` devem ter tamanho `512x256 px`\n",
    "- Para combinar imagens, é preciso ter uma pasta `A` contendo imagens de `256x256 px`, e uma pasta `B` contendo imagens com tamanho e nome correspondentes. Por exemplo, se `myTrainingSet/A/img_0.png` existe, `myTrainingSet/B/img_0.png` também deve existir"
   ]
  },
  {
   "cell_type": "code",
   "execution_count": 1,
   "metadata": {},
   "outputs": [],
   "source": [
    "# Importação dos pacotes necessários\n",
    "import os\n",
    "from pix2pix_helpers.combine_images import combine_images\n",
    "from pix2pix_helpers.create_train_test import create_train_test\n",
    "from pix2pix_helpers.fix_names import fix_names\n",
    "from pix2pix_helpers.resize_image import scale_down, scale_up"
   ]
  },
  {
   "cell_type": "markdown",
   "metadata": {},
   "source": [
    "### Opções de preparação do set de treinamento"
   ]
  },
  {
   "cell_type": "code",
   "execution_count": 2,
   "metadata": {},
   "outputs": [],
   "source": [
    "# A pasta principal\n",
    "FOLDER = os.path.realpath('data/tracos')\n",
    "\n",
    "# O que você deseja fazer?\n",
    "\n",
    "# Configuração de redimensionamento\n",
    "RESIZE = False\n",
    "RESIZE_FACTOR = 2\n",
    "RESIZE_FOLDER = FOLDER\n",
    "\n",
    "# Correção dos nomes\n",
    "FIX_NAMES = False\n",
    "FIX_FOLDER = ''\n",
    "FIX_TARGET = ''\n",
    "\n",
    "# Combinar imagens\n",
    "COMBINE_IMAGES = True\n",
    "COMBINE_A = os.path.join(FOLDER, 'A')\n",
    "COMBINE_B = os.path.join(FOLDER, 'B')\n",
    "COMBINE_AB = os.path.join(FOLDER, 'AB')\n",
    "\n",
    "# Criar o training set\n",
    "CREATE_TEST_TRAIN = True\n",
    "CREATE_TT_SOURCE = COMBINE_AB\n",
    "CREATE_TT_TCOUNT = 10"
   ]
  },
  {
   "cell_type": "code",
   "execution_count": 3,
   "metadata": {},
   "outputs": [
    {
     "name": "stdout",
     "output_type": "stream",
     "text": [
      "Combining images from D:\\Repositories\\Personal\\DG-AI_DF\\DGAI_Python\\data\\tracos\\A and D:\\Repositories\\Personal\\DG-AI_DF\\DGAI_Python\\data\\tracos\\B into D:\\Repositories\\Personal\\DG-AI_DF\\DGAI_Python\\data\\tracos\\AB\n"
     ]
    },
    {
     "name": "stderr",
     "output_type": "stream",
     "text": [
      "100%|██████████| 201/201 [00:04<00:00, 41.89it/s]\n"
     ]
    },
    {
     "name": "stdout",
     "output_type": "stream",
     "text": [
      "Creating test and train folders on D:\\Repositories\\Personal\\DG-AI_DF\\DGAI_Python\\data\\tracos\\AB\n"
     ]
    },
    {
     "name": "stderr",
     "output_type": "stream",
     "text": [
      "100%|██████████| 201/201 [00:00<00:00, 1605.60it/s]\n"
     ]
    }
   ],
   "source": [
    "if RESIZE:\n",
    "    if RESIZE_FACTOR > 0:\n",
    "        scale_up(RESIZE_FOLDER, RESIZE_FACTOR)\n",
    "    else:\n",
    "        scale_down(RESIZE_FOLDER, -RESIZE_FACTOR)\n",
    "\n",
    "if FIX_NAMES:\n",
    "    fix_names(FIX_FOLDER, FIX_TARGET)\n",
    "\n",
    "if COMBINE_IMAGES:\n",
    "    combine_images(COMBINE_A, COMBINE_B, COMBINE_AB)\n",
    "\n",
    "if CREATE_TEST_TRAIN:\n",
    "    create_train_test(CREATE_TT_SOURCE, CREATE_TT_TCOUNT)"
   ]
  }
 ],
 "metadata": {
  "interpreter": {
   "hash": "e71fdd7c552fe95a1eacb854f1b10e9ecb90034276b5430645f7c41b103f00ef"
  },
  "kernelspec": {
   "display_name": "Python 3.9.7 ('torch-ready')",
   "language": "python",
   "name": "python3"
  },
  "language_info": {
   "codemirror_mode": {
    "name": "ipython",
    "version": 3
   },
   "file_extension": ".py",
   "mimetype": "text/x-python",
   "name": "python",
   "nbconvert_exporter": "python",
   "pygments_lexer": "ipython3",
   "version": "3.9.7"
  },
  "orig_nbformat": 4
 },
 "nbformat": 4,
 "nbformat_minor": 2
}
